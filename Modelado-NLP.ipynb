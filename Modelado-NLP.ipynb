{
 "cells": [
  {
   "cell_type": "markdown",
   "metadata": {
    "id": "QMk1cgA0rMOB"
   },
   "source": [
    "## 3. Modelado NLP"
   ]
  },
  {
   "cell_type": "code",
   "execution_count": 1,
   "metadata": {
    "executionInfo": {
     "elapsed": 247,
     "status": "ok",
     "timestamp": 1691134120237,
     "user": {
      "displayName": "Victor Rey García",
      "userId": "10394014121316921241"
     },
     "user_tz": -120
    },
    "id": "1qGDoIo9waOh"
   },
   "outputs": [],
   "source": [
    "# Importamos librerías\n",
    "\n",
    "import pandas as pd\n",
    "\n",
    "# Cargamos el dataframe preprocesado\n",
    "# Introducir en path_file la ruta donde hemos guardado el dataset tras la fase de preprocesado\n",
    "\n",
    "path_file = \"XXXXX/df_videogames_processed.csv\" \n",
    "df_videogames_processed = pd.read_csv(path_file, sep=',')"
   ]
  },
  {
   "cell_type": "code",
   "execution_count": 9,
   "metadata": {
    "colab": {
     "base_uri": "https://localhost:8080/"
    },
    "executionInfo": {
     "elapsed": 10171,
     "status": "ok",
     "timestamp": 1691134134036,
     "user": {
      "displayName": "Victor Rey García",
      "userId": "10394014121316921241"
     },
     "user_tz": -120
    },
    "id": "7-Gu5dkgxhLa",
    "outputId": "f3530bd7-b1b6-4af4-bc8a-f4d67107f104"
   },
   "outputs": [],
   "source": [
    "# Importamos librerías\n",
    "\n",
    "!pip install scikit-learn\n",
    "from sklearn.model_selection import train_test_split\n",
    "from sklearn.feature_extraction.text import CountVectorizer, TfidfVectorizer\n",
    "\n",
    "# Creamos los conjuntos de entrenamiento (70%) y test (30%)\n",
    "\n",
    "X_train, X_test, y_train, y_test = train_test_split(df_videogames_processed['processedreviews'], df_videogames_processed['sentiment_label'], train_size=0.70, test_size=0.3,\n",
    "                                                    random_state=1, shuffle=True)"
   ]
  },
  {
   "cell_type": "code",
   "execution_count": 10,
   "metadata": {
    "colab": {
     "base_uri": "https://localhost:8080/",
     "height": 75
    },
    "executionInfo": {
     "elapsed": 5248,
     "status": "ok",
     "timestamp": 1691134149257,
     "user": {
      "displayName": "Victor Rey García",
      "userId": "10394014121316921241"
     },
     "user_tz": -120
    },
    "id": "lF_9OQm7zRYM",
    "outputId": "65f3b875-bdcc-442b-ffc0-6dbda95ae24c"
   },
   "outputs": [
    {
     "data": {
      "text/plain": [
       "TfidfVectorizer(max_df=0.95, max_features=4500, min_df=3, strip_accents='ascii')"
      ]
     },
     "execution_count": 10,
     "metadata": {},
     "output_type": "execute_result"
    }
   ],
   "source": [
    "# Extraemos las características utilizando vectorización TF-IDF\n",
    "# Establecemos un número máximo de carácterísticas de 4500 (palabras) y un mínimo de apariciones de 3, todo para palabras individuales.\n",
    "\n",
    "cv = TfidfVectorizer(\n",
    "    max_df=0.95,\n",
    "    min_df=3,\n",
    "    max_features=4500,\n",
    "    strip_accents='ascii',\n",
    "    ngram_range=(1, 1)\n",
    ")\n",
    "cv.fit(X_train)"
   ]
  },
  {
   "cell_type": "code",
   "execution_count": 11,
   "metadata": {
    "colab": {
     "base_uri": "https://localhost:8080/"
    },
    "executionInfo": {
     "elapsed": 240,
     "status": "ok",
     "timestamp": 1691134161858,
     "user": {
      "displayName": "Victor Rey García",
      "userId": "10394014121316921241"
     },
     "user_tz": -120
    },
    "id": "975C8Ton8SAP",
    "outputId": "9cbedd75-fb5c-4232-9401-5ef2c9ac2423"
   },
   "outputs": [
    {
     "data": {
      "text/plain": [
       "4500"
      ]
     },
     "execution_count": 11,
     "metadata": {},
     "output_type": "execute_result"
    }
   ],
   "source": [
    "# Observamos por pantalla los 25 últimos términos del vocabulario\n",
    "\n",
    "list(cv.vocabulary_.items())[:25]\n",
    "\n",
    "# Comprobamos que la longitud del vocabulario es la establecida previamente\n",
    "\n",
    "len(cv.vocabulary_)"
   ]
  },
  {
   "cell_type": "code",
   "execution_count": 12,
   "metadata": {
    "colab": {
     "base_uri": "https://localhost:8080/"
    },
    "executionInfo": {
     "elapsed": 19585,
     "status": "ok",
     "timestamp": 1691134211333,
     "user": {
      "displayName": "Victor Rey García",
      "userId": "10394014121316921241"
     },
     "user_tz": -120
    },
    "id": "6ta3AF29AQcE",
    "outputId": "d72eba79-25c6-46dc-b9d3-6ee81d1f74dd"
   },
   "outputs": [
    {
     "name": "stdout",
     "output_type": "stream",
     "text": [
      "Accuracy for C=0.01: 0.7706684627041589\n",
      "Accuracy for C=0.5: 0.8242128304428354\n",
      "Accuracy for C=1: 0.8280855362855699\n",
      "Accuracy for C=100: 0.8055228152887691\n",
      "Accuracy for C=1000: 0.796514564741539\n",
      "Accuracy for C=10000: 0.795841050681933\n"
     ]
    }
   ],
   "source": [
    "# Vectorizamos los set de train y test\n",
    "\n",
    "X_train_ = cv.transform(X_train)\n",
    "X_test_ = cv.transform(X_test)\n",
    "\n",
    "# Importamos librerías\n",
    "\n",
    "from sklearn.linear_model import LogisticRegression\n",
    "from sklearn.metrics import accuracy_score\n",
    "\n",
    "# Comenzamos el entrenamiento y predicción para un primer modelo sencillo de machine learning: regresión logística\n",
    "# Hacemos pruebas con hasta 5 valores distintos para el parámetro 'c' e imprimimos por pantalla el accuracy para las distintas predicciones/valores de 'c'\n",
    "\n",
    "c_params = [0.01, 0.5, 1, 100, 1000, 10000]\n",
    "\n",
    "for c in c_params:\n",
    "    lr = LogisticRegression(C=c, solver='lbfgs', max_iter=10000)\n",
    "    lr.fit(X_train_, y_train)\n",
    "\n",
    "    train_predict = lr.predict(X_train_)\n",
    "    test_predict = lr.predict(X_test_)\n",
    "\n",
    "    print (\"Accuracy for C={}: {}\".format(c, accuracy_score(y_test, test_predict)))"
   ]
  },
  {
   "cell_type": "code",
   "execution_count": 13,
   "metadata": {
    "colab": {
     "base_uri": "https://localhost:8080/",
     "height": 1000
    },
    "executionInfo": {
     "elapsed": 1360955,
     "status": "ok",
     "timestamp": 1691062330876,
     "user": {
      "displayName": "Victor Rey García",
      "userId": "10394014121316921241"
     },
     "user_tz": -120
    },
    "id": "b2oGqLCeD7Di",
    "outputId": "d50ef1df-ded4-436f-976e-20df326b1311"
   },
   "outputs": [
    {
     "name": "stdout",
     "output_type": "stream",
     "text": [
      "Fitting 5 folds for each of 8 candidates, totalling 40 fits\n",
      "[CV] END ........................................max_depth=1; total time=   2.6s\n",
      "[CV] END ........................................max_depth=1; total time=   2.3s\n",
      "[CV] END ........................................max_depth=1; total time=   2.5s\n",
      "[CV] END ........................................max_depth=1; total time=   2.5s\n",
      "[CV] END ........................................max_depth=1; total time=   2.5s\n",
      "[CV] END ........................................max_depth=5; total time=   5.1s\n",
      "[CV] END ........................................max_depth=5; total time=   5.1s\n",
      "[CV] END ........................................max_depth=5; total time=   5.2s\n",
      "[CV] END ........................................max_depth=5; total time=   5.0s\n",
      "[CV] END ........................................max_depth=5; total time=   5.0s\n",
      "[CV] END .......................................max_depth=10; total time=  10.2s\n",
      "[CV] END .......................................max_depth=10; total time=   9.8s\n",
      "[CV] END .......................................max_depth=10; total time=   9.9s\n",
      "[CV] END .......................................max_depth=10; total time=  10.0s\n",
      "[CV] END .......................................max_depth=10; total time=   9.7s\n",
      "[CV] END .......................................max_depth=15; total time=  17.9s\n",
      "[CV] END .......................................max_depth=15; total time=  17.4s\n",
      "[CV] END .......................................max_depth=15; total time=  17.3s\n",
      "[CV] END .......................................max_depth=15; total time=  17.7s\n",
      "[CV] END .......................................max_depth=15; total time=  17.6s\n",
      "[CV] END .......................................max_depth=20; total time=  27.1s\n",
      "[CV] END .......................................max_depth=20; total time=  27.1s\n",
      "[CV] END .......................................max_depth=20; total time=  27.0s\n",
      "[CV] END .......................................max_depth=20; total time=  28.1s\n",
      "[CV] END .......................................max_depth=20; total time=  28.5s\n",
      "[CV] END .......................................max_depth=25; total time=  40.2s\n",
      "[CV] END .......................................max_depth=25; total time=  39.4s\n",
      "[CV] END .......................................max_depth=25; total time=  39.8s\n",
      "[CV] END .......................................max_depth=25; total time=  41.6s\n",
      "[CV] END .......................................max_depth=25; total time=  41.0s\n",
      "[CV] END .......................................max_depth=35; total time= 1.1min\n",
      "[CV] END .......................................max_depth=35; total time= 1.1min\n",
      "[CV] END .......................................max_depth=35; total time= 1.1min\n",
      "[CV] END .......................................max_depth=35; total time= 1.1min\n",
      "[CV] END .......................................max_depth=35; total time= 1.1min\n",
      "[CV] END .......................................max_depth=40; total time= 1.3min\n",
      "[CV] END .......................................max_depth=40; total time= 1.3min\n",
      "[CV] END .......................................max_depth=40; total time= 1.3min\n",
      "[CV] END .......................................max_depth=40; total time= 1.3min\n",
      "[CV] END .......................................max_depth=40; total time= 1.3min\n",
      "best mean cross-validation score: 0.784\n",
      "best parameters: {'max_depth': 40}\n"
     ]
    },
    {
     "data": {
      "image/png": "[encoded data removed]",
      "text/plain": [
       "<Figure size 640x480 with 1 Axes>"
      ]
     },
     "metadata": {},
     "output_type": "display_data"
    }
   ],
   "source": [
    "# Importamos librerías\n",
    "\n",
    "import numpy as np\n",
    "from sklearn.ensemble import RandomForestClassifier\n",
    "from sklearn.model_selection import GridSearchCV\n",
    "import matplotlib.pyplot as plt\n",
    "\n",
    "# Comenzamos el entrenamiento para un segundo modelo de machine learning, algo más complejo que el anterior: random forest\n",
    "# Lanzamos el train con grid search para encontrar el valor óptimo para el parámetro 'max_depth'\n",
    "\n",
    "maxDepth = maxDepth = [1, 5, 10, 15, 20, 25, 35, 40]\n",
    "tuned_parameters = {'max_depth': maxDepth}\n",
    "\n",
    "grid = GridSearchCV(RandomForestClassifier(random_state=0, n_estimators=500, max_features='sqrt'),  scoring='accuracy', param_grid=tuned_parameters,cv=5, verbose=2)\n",
    "grid.fit(X_train_, y_train)\n",
    "\n",
    "print(\"best mean cross-validation score: {:.3f}\".format(grid.best_score_))\n",
    "print(\"best parameters: {}\".format(grid.best_params_))\n",
    "\n",
    "# Visualizamos resultados para los distintos valores probados con grid search con objeto de asegurar que el valor óptimo encontrado no corresponde a un mínimo local\n",
    "scores = np.array(grid.cv_results_['mean_test_score'])\n",
    "plt.plot(maxDepth,scores,'-o')\n",
    "plt.xlabel('max_depth')\n",
    "plt.ylabel('10-fold ACC')\n",
    "plt.show()\n",
    "\n",
    "# Observamos que los resultados de un 'depth' de entre 35 y 40 mejoran muy poco, por lo que fijamos el mejor valor para el parámetro en 40"
   ]
  },
  {
   "cell_type": "code",
   "execution_count": 14,
   "metadata": {
    "colab": {
     "base_uri": "https://localhost:8080/"
    },
    "executionInfo": {
     "elapsed": 105718,
     "status": "ok",
     "timestamp": 1691135677713,
     "user": {
      "displayName": "Victor Rey García",
      "userId": "10394014121316921241"
     },
     "user_tz": -120
    },
    "id": "9WCQA3CIAxrs",
    "outputId": "953b49a9-163b-452d-a1df-216e705995e6"
   },
   "outputs": [
    {
     "name": "stdout",
     "output_type": "stream",
     "text": [
      "Test:  0.7872537464219566\n"
     ]
    }
   ],
   "source": [
    "# Encontrado un valor óptimo para max_depth entrenamos el modelo con el conjunto de train\n",
    "\n",
    "maxDepthOptimo = grid.best_params_['max_depth']\n",
    "rf = RandomForestClassifier(max_depth=maxDepthOptimo,n_estimators=500,max_features='sqrt').fit(X_train_, y_train)\n",
    "\n",
    "# Entrenado el modelo calculamos accuracy para test\n",
    "print(\"Test: \",rf.score(X_test_, y_test))\n",
    "\n",
    "# Con esto damos por finalizado este segundo modelo, obteniendo un accuracy ligeramente inferior al obtenido con regresión logística"
   ]
  },
  {
   "cell_type": "markdown",
   "metadata": {
    "id": "jAUIHvF9lwaJ"
   },
   "source": [
    "### Reporte de métricas y conclusiones"
   ]
  },
  {
   "cell_type": "code",
   "execution_count": 18,
   "metadata": {
    "colab": {
     "base_uri": "https://localhost:8080/"
    },
    "executionInfo": {
     "elapsed": 928,
     "status": "ok",
     "timestamp": 1691136965010,
     "user": {
      "displayName": "Victor Rey García",
      "userId": "10394014121316921241"
     },
     "user_tz": -120
    },
    "id": "IanxUYuigh1e",
    "outputId": "8d9a76f5-e95c-4a02-b86a-45f43890e552"
   },
   "outputs": [
    {
     "name": "stdout",
     "output_type": "stream",
     "text": [
      "**Report del modelo 1: Regresión logística**\n",
      "Confussion matrix:\n",
      "[[5027  970]\n",
      " [1072 4809]]\n",
      "\n",
      "Classification report:\n",
      "              precision    recall  f1-score   support\n",
      "\n",
      "         0.0       0.82      0.84      0.83      5997\n",
      "         1.0       0.83      0.82      0.82      5881\n",
      "\n",
      "    accuracy                           0.83     11878\n",
      "   macro avg       0.83      0.83      0.83     11878\n",
      "weighted avg       0.83      0.83      0.83     11878\n",
      "\n",
      "Accuracy score:0.8280855362855699\n"
     ]
    }
   ],
   "source": [
    "# Importamos librerías\n",
    "\n",
    "from sklearn.metrics import accuracy_score, confusion_matrix, classification_report\n",
    "\n",
    "# Report del modelo 1: Regresión logística\n",
    "\n",
    "lr = LogisticRegression(C=1, solver='lbfgs', max_iter=10000)\n",
    "lr.fit(X_train_, y_train)\n",
    "test_predict = lr.predict(X_test_)\n",
    "\n",
    "print('**Report del modelo 1: Regresión logística**')\n",
    "print('Confussion matrix:\\n{}'.format(confusion_matrix(y_test, test_predict)))\n",
    "print('\\nClassification report:\\n{}'.format(classification_report(y_test, test_predict)))\n",
    "print('Accuracy score:{}'.format(accuracy_score(y_test, test_predict)))"
   ]
  },
  {
   "cell_type": "code",
   "execution_count": 19,
   "metadata": {
    "colab": {
     "base_uri": "https://localhost:8080/"
    },
    "executionInfo": {
     "elapsed": 2097,
     "status": "ok",
     "timestamp": 1691137217287,
     "user": {
      "displayName": "Victor Rey García",
      "userId": "10394014121316921241"
     },
     "user_tz": -120
    },
    "id": "pMbWodTfnlF-",
    "outputId": "af4dca2c-0a05-455a-e5e1-5855dbbe10d0"
   },
   "outputs": [
    {
     "name": "stdout",
     "output_type": "stream",
     "text": [
      "**Report del modelo 2: Random forest**\n",
      "Confussion matrix:\n",
      "[[4637 1360]\n",
      " [1167 4714]]\n",
      "\n",
      "Classification report:\n",
      "              precision    recall  f1-score   support\n",
      "\n",
      "         0.0       0.80      0.77      0.79      5997\n",
      "         1.0       0.78      0.80      0.79      5881\n",
      "\n",
      "    accuracy                           0.79     11878\n",
      "   macro avg       0.79      0.79      0.79     11878\n",
      "weighted avg       0.79      0.79      0.79     11878\n",
      "\n",
      "Accuracy score:0.7872537464219566\n"
     ]
    }
   ],
   "source": [
    "# Report del modelo 2: Random forest\n",
    "\n",
    "test_predict2 = rf.predict(X_test_)\n",
    "\n",
    "print('**Report del modelo 2: Random forest**')\n",
    "print('Confussion matrix:\\n{}'.format(confusion_matrix(y_test, test_predict2)))\n",
    "print('\\nClassification report:\\n{}'.format(classification_report(y_test, test_predict2)))\n",
    "print('Accuracy score:{}'.format(accuracy_score(y_test, test_predict2)))"
   ]
  },
  {
   "cell_type": "markdown",
   "metadata": {
    "id": "fy_BSydipFLN"
   },
   "source": [
    "# Conclusiones\n",
    "\n",
    "El testeo de los dos modelos demuestra que no siempre los más complejos arrojan mejores resultados. En este caso un modelo simple de regresión logística consigue un accuracy sensiblemente superior al de un modelo más complejo como random forest.\n",
    "Además, el análisis desplegado muestra la importancia de utilizar técnicas de grid para la optimización de parámetros en la obtención de los mejores resultados."
   ]
  }
 ],
 "metadata": {
  "colab": {
   "authorship_tag": "ABX9TyNm82j08Yn3ecJFMvmYWYQe",
   "provenance": []
  },
  "kernelspec": {
   "display_name": "Python 3 (ipykernel)",
   "language": "python",
   "name": "python3"
  },
  "language_info": {
   "codemirror_mode": {
    "name": "ipython",
    "version": 3
   },
   "file_extension": ".py",
   "mimetype": "text/x-python",
   "name": "python",
   "nbconvert_exporter": "python",
   "pygments_lexer": "ipython3",
   "version": "3.9.13"
  }
 },
 "nbformat": 4,
 "nbformat_minor": 1
}
